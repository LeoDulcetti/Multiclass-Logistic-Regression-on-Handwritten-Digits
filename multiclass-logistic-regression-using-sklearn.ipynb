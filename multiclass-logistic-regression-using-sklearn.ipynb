{
 "cells": [
  {
   "cell_type": "markdown",
   "metadata": {},
   "source": [
    "<a class=\"anchor\" id=\"0\"></a>\n",
    "# **Multiclass Logistic Regression on Handwritten Digits Using Sklearn's Linear Model**\n",
    "\n",
    " \n",
    "In this study we are going to use the Linear Model from Sklearn library to perform Multi class Logistic Regression. We are going to use handwritten digit's dataset from Sklearn. [Optical recognition of handwritten digits dataset](https://scikit-learn.org/stable/datasets/index.html#optical-recognition-of-handwritten-digits-dataset)"
   ]
  },
  {
   "cell_type": "markdown",
   "metadata": {},
   "source": [
    "<a class=\"anchor\" id=\"0.1\"></a>\n",
    "# **Table of Contents**\n",
    "\n",
    "\n",
    "1. [Introduction](#1)\n",
    "2. [Import Libraries](#2)\n",
    "3. [Load the dataset](#3)\n",
    "4. [Data Understanding](#4)\n",
    "5. [Split the dataset](#5)\n",
    "6. [Multi-class Logistic Regression using OVR](#6)\n",
    "7. [Multinomial Logistic Regression](#7)\n",
    "8. [Linear Discriminant Analysis (LDA)](#8)\n",
    "9. [Support Vector Machine (SVM)](#9)\n",
    "10. [Conclusions](#10)"
   ]
  },
  {
   "cell_type": "markdown",
   "metadata": {},
   "source": [
    "# **1. Introduction** <a class=\"anchor\" id=\"1\"></a>\n",
    "\n",
    "When outcome has more than to categories, Multi class regression is used for classification. For e.g. mail classification as primary, social, promotions, forums. We are going to use One Vs Rest (OVR) algorithm.\n",
    " \n",
    "This is also called as one vs all algorithm. As name suggest in this algorithm we choose one class and put all other classes into second virtual class and run the binary logistic regression on it. We repeat this procedure for all the classes in the dataset. So we actually end up with binary classifiers designed to recognize each class in dataset\n",
    " \n",
    "For prediction on given data, our algorithm returns probabilities for each class in the dataset and whichever class has the highest probability is our prediction"
   ]
  },
  {
   "cell_type": "markdown",
   "metadata": {},
   "source": [
    "### Problem Statement\n",
    "The data set contains images of hand-written digits: 10 classes where each class refers to a digit(0 to 9). Objective of our model is to predict the correct digit from 0 to 9, based on given handwritten image of digit."
   ]
  },
  {
   "cell_type": "markdown",
   "metadata": {},
   "source": [
    "# **2. Import Libraries** <a class=\"anchor\" id=\"2\"></a>\n",
    "\n",
    "* pandas: Used for data manipulation and analysis\n",
    "* numpy : Numpy is the core library for scientific computing in Python. It is used for working with arrays and matrices.\n",
    "* matplotlib : It's plotting library, and we are going to use it for data visualization\n",
    "* datasets: Here we are going to use 'load_digits' dataset\n",
    "* model_selection: Here we are going to use model_selection.train_test_split() for splitting the data\n",
    "* linear_model: Here we are going to linear_model.LogisticRegression() for classification\n",
    "* metrics: Here we are going use metrics.plot_confusion_matrix() and metrics.classification_report() for model analysis"
   ]
  },
  {
   "cell_type": "code",
   "execution_count": 15,
   "metadata": {
    "ExecuteTime": {
     "end_time": "2024-02-12T15:13:55.775117500Z",
     "start_time": "2024-02-12T15:13:55.600921800Z"
    },
    "_cell_guid": "79c7e3d0-c299-4dcb-8224-4455121ee9b0",
    "_uuid": "d629ff2d2480ee46fbb7e2d37f6b5fab8052498a",
    "trusted": true
   },
   "outputs": [],
   "source": [
    "import pandas as pd\n",
    "import numpy as np\n",
    "import matplotlib.pyplot as plt\n",
    "from sklearn import datasets\n",
    "from sklearn import model_selection\n",
    "from sklearn import linear_model\n",
    "from sklearn import metrics"
   ]
  },
  {
   "cell_type": "markdown",
   "metadata": {},
   "source": [
    "# **3. Load the dataset** <a class=\"anchor\" id=\"3\"></a>\n",
    "\n",
    "* We are going to use [Optical recognition of handwritten digits dataset](https://scikit-learn.org/stable/datasets/index.html#optical-recognition-of-handwritten-digits-dataset)\n",
    "* Dataset characteristics are,\n",
    "  - Number of Attributes: 64\n",
    "  - Attribute Information: 8x8 image of integer pixels in the range 0 to 16.\n",
    "  - Missing Attribute Values: None\n",
    "  - Creator: Alpaydin (alpaydin ‘@’ boun.edu.tr)\n",
    "  - Date: July; 1998"
   ]
  },
  {
   "cell_type": "code",
   "execution_count": 16,
   "metadata": {
    "ExecuteTime": {
     "end_time": "2024-02-12T15:13:55.775117500Z",
     "start_time": "2024-02-12T15:13:55.620757800Z"
    },
    "trusted": true
   },
   "outputs": [
    {
     "name": "stdout",
     "output_type": "stream",
     "text": [
      "Digits dataset structure=  ['DESCR', 'data', 'feature_names', 'frame', 'images', 'target', 'target_names']\n",
      "Data shape=  (1797, 64)\n",
      "Data contains pixel representation of each image, \n",
      " [[ 0.  0.  5. ...  0.  0.  0.]\n",
      " [ 0.  0.  0. ... 10.  0.  0.]\n",
      " [ 0.  0.  0. ... 16.  9.  0.]\n",
      " ...\n",
      " [ 0.  0.  1. ...  6.  0.  0.]\n",
      " [ 0.  0.  2. ... 12.  0.  0.]\n",
      " [ 0.  0. 10. ... 12.  1.  0.]]\n"
     ]
    }
   ],
   "source": [
    "digits_df = datasets.load_digits()\n",
    "print('Digits dataset structure= ', dir(digits_df))\n",
    "print('Data shape= ', digits_df.data.shape)\n",
    "print('Data contains pixel representation of each image, \\n', digits_df.data)"
   ]
  },
  {
   "cell_type": "markdown",
   "metadata": {},
   "source": [
    "# **4. Data Understanding** <a class=\"anchor\" id=\"4\"></a>\n",
    "\n",
    "Dataset contains 10 classes(0 to 9 digits). There are 180 training example per class and total 1797 training examples. Each training example is 8x8 image i.e. flat array of 64 pixels or matrix of 8x8. Each pixel value is represented by integer from 0 to 16. So our input data is of shape (1797x64) i.e. 1797 rows and 64 columns\n",
    " \n",
    "* digits.DESCR: Description of the dataset\n",
    "* digits.data:  \n",
    "  - ndarray of shape (1797, 64)\n",
    "  - The flattened data matrix of training data.i.e Every 8x8 image data matrix is converted to 64 pixel flat array. \n",
    "  - We are going to use this data for model training\n",
    "* digits.images:  \n",
    "  - ndarray of shape (1797, 8, 8)\n",
    "  - It contains raw image data in the form of 8x8 matrix\n",
    "  - We are going to use this data for plotting the images\n",
    "* digits.target: Contains target value(0 to 9) for each training examples, so it contains 1797, y labels\n",
    "* digits.target_names: Contains name for each target since we have 10 classes it contains 10 names only\n",
    " \n",
    "Here digits.data is our independent/inputs/ X variables\n",
    " \n",
    "And digits.target is our dependent/target/y variable"
   ]
  },
  {
   "cell_type": "markdown",
   "metadata": {},
   "source": [
    "### Data Visualization\n",
    "Let's visualize the images from digits dataset"
   ]
  },
  {
   "cell_type": "code",
   "execution_count": 17,
   "metadata": {
    "ExecuteTime": {
     "end_time": "2024-02-12T15:13:56.393702900Z",
     "start_time": "2024-02-12T15:13:55.655720100Z"
    },
    "trusted": true
   },
   "outputs": [
    {
     "data": {
      "image/png": "[encoded data removed]",
      "text/plain": [
       "<Figure size 1500x600 with 5 Axes>"
      ]
     },
     "metadata": {},
     "output_type": "display_data"
    }
   ],
   "source": [
    "# Using subplot to plot the digits from 0 to 4\n",
    "rows = 1\n",
    "columns = 5\n",
    "fig, ax =  plt.subplots(rows, columns, figsize = (15,6))\n",
    "\n",
    "plt.gray()\n",
    "for i in range(columns):\n",
    "  ax[i].matshow(digits_df.images[i]) \n",
    "  ax[i].set_title('Label: %s\\n' % digits_df.target_names[i])\n",
    "\n",
    "plt.show()"
   ]
  },
  {
   "cell_type": "markdown",
   "metadata": {},
   "source": [
    "# **5. Split the Dataset** <a class=\"anchor\" id=\"5\"></a>\n"
   ]
  },
  {
   "cell_type": "markdown",
   "metadata": {},
   "source": [
    "### Create Feature Matrix X and Label Vector y\n",
    "Note for training and testing we are going to use 'digits_df.data' and not 'digits_df.images'"
   ]
  },
  {
   "cell_type": "code",
   "execution_count": 18,
   "metadata": {
    "ExecuteTime": {
     "end_time": "2024-02-12T15:13:56.394836100Z",
     "start_time": "2024-02-12T15:13:56.380481900Z"
    },
    "trusted": true
   },
   "outputs": [],
   "source": [
    "X = digits_df.data\n",
    "y = digits_df.target"
   ]
  },
  {
   "cell_type": "markdown",
   "metadata": {},
   "source": [
    "### Create Test And Train Dataset\n",
    "* We will split the dataset, so that we can use one set of data for training the model and one set of data for testing the model\n",
    "* We will keep 20% of data for testing and 80% of data for training the model"
   ]
  },
  {
   "cell_type": "code",
   "execution_count": 19,
   "metadata": {
    "ExecuteTime": {
     "end_time": "2024-02-12T15:13:56.418654200Z",
     "start_time": "2024-02-12T15:13:56.393702900Z"
    },
    "trusted": true
   },
   "outputs": [
    {
     "name": "stdout",
     "output_type": "stream",
     "text": [
      "X_train dimensions =  (1437, 64)\n",
      "X_test dimensions =  (360, 64)\n",
      "y_train dimensions =  (1437,)\n",
      "y_test dimensions =  (360,)\n"
     ]
    }
   ],
   "source": [
    "X_train, X_test, y_train, y_test = model_selection.train_test_split(X, y, test_size= 0.2, random_state = 1)\n",
    "\n",
    "print('X_train dimensions = ', X_train.shape)\n",
    "print('X_test dimensions = ', X_test.shape)\n",
    "print('y_train dimensions = ', y_train.shape)\n",
    "print('y_test dimensions = ', y_test.shape)"
   ]
  },
  {
   "cell_type": "markdown",
   "metadata": {},
   "source": [
    "# **6. Multi-class Logistic Regression Using OVR** <a class=\"anchor\" id=\"6\"></a>\n",
    "* Since we are going to use One Vs Rest algorithm, set >  multi_class='ovr'\n",
    "* Note: since we are using One Vs Rest algorithm we must use 'liblinear' solver with it."
   ]
  },
  {
   "cell_type": "code",
   "execution_count": 21,
   "metadata": {
    "ExecuteTime": {
     "end_time": "2024-02-12T15:13:56.610882600Z",
     "start_time": "2024-02-12T15:13:56.418654200Z"
    },
    "trusted": true
   },
   "outputs": [
    {
     "name": "stdout",
     "output_type": "stream",
     "text": [
      "Score of OVR logistic regression on training data =  0.9965205288796103\n",
      "Score of OVR logistic regression on testing data =  0.9694444444444444\n"
     ]
    }
   ],
   "source": [
    "lm = linear_model.LogisticRegression(multi_class='ovr', solver='liblinear')\n",
    "\n",
    "lm.fit(X_train, y_train)\n",
    "\n",
    "lm_score_train = lm.score(X_train, y_train)\n",
    "lm_score_test = lm.score(X_test, y_test)\n",
    "\n",
    "print(f\"Score of OVR logistic regression on training data = \", lm_score_train)\n",
    "print(f\"Score of OVR logistic regression on testing data = \", lm_score_test)"
   ]
  },
  {
   "cell_type": "markdown",
   "metadata": {
    "collapsed": false
   },
   "source": [
    "# **7. Multinomial Logistic Regression** <a class=\"anchor\" id=\"7\"></a>"
   ]
  },
  {
   "cell_type": "code",
   "execution_count": 20,
   "metadata": {
    "ExecuteTime": {
     "end_time": "2024-02-12T15:13:56.838883200Z",
     "start_time": "2024-02-12T15:13:56.610882600Z"
    },
    "collapsed": false
   },
   "outputs": [
    {
     "name": "stdout",
     "output_type": "stream",
     "text": [
      "1.0\n",
      "0.9694444444444444\n"
     ]
    },
    {
     "name": "stderr",
     "output_type": "stream",
     "text": [
      "/Library/Frameworks/Python.framework/Versions/3.11/lib/python3.11/site-packages/sklearn/linear_model/_logistic.py:469: ConvergenceWarning: lbfgs failed to converge (status=1):\n",
      "STOP: TOTAL NO. of ITERATIONS REACHED LIMIT.\n",
      "\n",
      "Increase the number of iterations (max_iter) or scale the data as shown in:\n",
      "    https://scikit-learn.org/stable/modules/preprocessing.html\n",
      "Please also refer to the documentation for alternative solver options:\n",
      "    https://scikit-learn.org/stable/modules/linear_model.html#logistic-regression\n",
      "  n_iter_i = _check_optimize_result(\n"
     ]
    }
   ],
   "source": [
    "mlr = linear_model.LogisticRegression(multi_class=\"auto\")\n",
    "\n",
    "mlr.fit(X_train, y_train)\n",
    "\n",
    "mlr_score_train = mlr.score(X_train, y_train)\n",
    "mlr_score_test = mlr.score(X_test, y_test)\n",
    "\n",
    "print(mlr_score_train)\n",
    "print(mlr_score_test)"
   ]
  },
  {
   "cell_type": "markdown",
   "metadata": {
    "collapsed": false
   },
   "source": [
    "# **8. Linear Discriminant Analysis** <a class=\"anchor\" id=\"8\"></a>"
   ]
  },
  {
   "cell_type": "code",
   "execution_count": 22,
   "metadata": {
    "ExecuteTime": {
     "end_time": "2024-02-12T15:13:56.935043Z",
     "start_time": "2024-02-12T15:13:56.838883200Z"
    },
    "collapsed": false
   },
   "outputs": [
    {
     "name": "stdout",
     "output_type": "stream",
     "text": [
      "0.9659011830201809\n",
      "0.9611111111111111\n"
     ]
    }
   ],
   "source": [
    "from sklearn.discriminant_analysis import LinearDiscriminantAnalysis\n",
    "\n",
    "lda = LinearDiscriminantAnalysis()\n",
    "\n",
    "lda.fit(X_train, y_train)\n",
    "\n",
    "lda_train = lda.score(X_train, y_train)\n",
    "lda_test= lda.score(X_test, y_test)\n",
    "\n",
    "print(lda_train)\n",
    "print(lda_test)"
   ]
  },
  {
   "cell_type": "markdown",
   "metadata": {},
   "source": [
    "# **9. Support Vector Machine** <a class=\"anchor\" id=\"9\"></a>"
   ]
  },
  {
   "cell_type": "code",
   "execution_count": 30,
   "metadata": {},
   "outputs": [
    {
     "name": "stdout",
     "output_type": "stream",
     "text": [
      "0.9944328462073765\n",
      "0.9916666666666667\n"
     ]
    }
   ],
   "source": [
    "from sklearn import svm\n",
    "svm1 = svm.SVC(decision_function_shape='ovr') # SVC is the support vector classifier, 'ovr' means one vs rest.\n",
    "svm1.fit(X_train, y_train)\n",
    "svm_train = svm1.score(X_train, y_train)\n",
    "svm_test = svm1.score(X_test, y_test)\n",
    "\n",
    "print(svm_train)\n",
    "print(svm_test)"
   ]
  },
  {
   "cell_type": "markdown",
   "metadata": {
    "collapsed": false
   },
   "source": [
    "# **10. Conclusions** <a class=\"anchor\" id=\"10\"></a>"
   ]
  },
  {
   "cell_type": "markdown",
   "metadata": {
    "collapsed": false
   },
   "source": [
    "Comparing Accuracy Scores of different models"
   ]
  },
  {
   "cell_type": "code",
   "execution_count": 23,
   "metadata": {
    "ExecuteTime": {
     "end_time": "2024-02-12T15:14:53.011000300Z",
     "start_time": "2024-02-12T15:14:52.967333600Z"
    },
    "collapsed": false
   },
   "outputs": [
    {
     "name": "stdout",
     "output_type": "stream",
     "text": [
      "Accuracy of OVR logistic regression on training set =  0.9965205288796103\n",
      "Accuracy of OVR logistic regression on testing set =  0.9694444444444444\n",
      "Accuracy of multinomial logistic regression on training set =  1.0\n",
      "Accuracy of multinomial logistic regression on testing set  =  0.9694444444444444\n",
      "Accuracy of LDA on training set=  0.9659011830201809\n",
      "Accuracy of LDA on test set =  0.9611111111111111\n"
     ]
    }
   ],
   "source": [
    "print(f\"Accuracy of OVR logistic regression on training set = \", lm_score_train)\n",
    "print(f\"Accuracy of OVR logistic regression on testing set = \", lm_score_test)\n",
    "print(f\"Accuracy of multinomial logistic regression on training set = \", mlr_score_train)\n",
    "print(f\"Accuracy of multinomial logistic regression on testing set  = \", mlr_score_test)\n",
    "print(f\"Accuracy of LDA on training set= \", lda_train)\n",
    "print(f\"Accuracy of LDA on test set = \", lda_test)"
   ]
  },
  {
   "cell_type": "markdown",
   "metadata": {
    "collapsed": false
   },
   "source": [
    "### Classification Reports\n",
    "Classification report is used to measure the quality of prediction from classification algorithm\n",
    " \n",
    "* Precision: Indicates how many classes are correctly classified\n",
    "* Recall: Indicates what proportions of actual positives was identified correctly\n",
    "* F-Score: It is the harmonic mean between precision & recall\n",
    "* Support: It is the number of occurrence of the given class in our dataset"
   ]
  },
  {
   "cell_type": "code",
   "execution_count": 24,
   "metadata": {
    "ExecuteTime": {
     "end_time": "2024-02-12T15:14:57.535917100Z",
     "start_time": "2024-02-12T15:14:57.509003800Z"
    },
    "collapsed": false
   },
   "outputs": [
    {
     "name": "stdout",
     "output_type": "stream",
     "text": [
      "Classification report for OVR logistic regression:\n",
      "\n",
      "              precision    recall  f1-score   support\n",
      "\n",
      "           0       1.00      0.98      0.99        43\n",
      "           1       1.00      0.97      0.99        35\n",
      "           2       1.00      0.97      0.99        36\n",
      "           3       0.95      0.95      0.95        41\n",
      "           4       0.97      1.00      0.99        38\n",
      "           5       0.94      0.97      0.95        30\n",
      "           6       1.00      1.00      1.00        37\n",
      "           7       1.00      0.97      0.99        37\n",
      "           8       0.90      0.93      0.92        29\n",
      "           9       0.91      0.94      0.93        34\n",
      "\n",
      "    accuracy                           0.97       360\n",
      "   macro avg       0.97      0.97      0.97       360\n",
      "weighted avg       0.97      0.97      0.97       360\n",
      "\n"
     ]
    }
   ],
   "source": [
    "print(\"Classification report for OVR logistic regression:\\n\")\n",
    "print(metrics.classification_report(y_test, lm.predict(X_test)))"
   ]
  },
  {
   "cell_type": "code",
   "execution_count": 25,
   "metadata": {},
   "outputs": [
    {
     "name": "stdout",
     "output_type": "stream",
     "text": [
      "Classification report for multinomial logistic regression:\n",
      "\n",
      "              precision    recall  f1-score   support\n",
      "\n",
      "           0       1.00      0.98      0.99        43\n",
      "           1       0.97      0.97      0.97        35\n",
      "           2       1.00      1.00      1.00        36\n",
      "           3       0.95      0.98      0.96        41\n",
      "           4       0.93      1.00      0.96        38\n",
      "           5       0.90      0.93      0.92        30\n",
      "           6       1.00      1.00      1.00        37\n",
      "           7       1.00      0.89      0.94        37\n",
      "           8       0.97      0.97      0.97        29\n",
      "           9       0.97      0.97      0.97        34\n",
      "\n",
      "    accuracy                           0.97       360\n",
      "   macro avg       0.97      0.97      0.97       360\n",
      "weighted avg       0.97      0.97      0.97       360\n",
      "\n"
     ]
    }
   ],
   "source": [
    "print(\"Classification report for multinomial logistic regression:\\n\")\n",
    "print(metrics.classification_report(y_test, mlr.predict(X_test)))"
   ]
  },
  {
   "cell_type": "code",
   "execution_count": 26,
   "metadata": {},
   "outputs": [
    {
     "name": "stdout",
     "output_type": "stream",
     "text": [
      "Classification report for linear discriminant analysis:\n",
      "\n",
      "              precision    recall  f1-score   support\n",
      "\n",
      "           0       1.00      0.98      0.99        43\n",
      "           1       0.97      0.91      0.94        35\n",
      "           2       0.97      0.97      0.97        36\n",
      "           3       1.00      0.95      0.97        41\n",
      "           4       1.00      1.00      1.00        38\n",
      "           5       0.97      0.97      0.97        30\n",
      "           6       0.97      1.00      0.99        37\n",
      "           7       0.97      0.95      0.96        37\n",
      "           8       0.87      0.93      0.90        29\n",
      "           9       0.86      0.94      0.90        34\n",
      "\n",
      "    accuracy                           0.96       360\n",
      "   macro avg       0.96      0.96      0.96       360\n",
      "weighted avg       0.96      0.96      0.96       360\n",
      "\n"
     ]
    }
   ],
   "source": [
    "print(\"Classification report for linear discriminant analysis:\\n\")\n",
    "print(metrics.classification_report(y_test, lda.predict(X_test)))"
   ]
  },
  {
   "cell_type": "markdown",
   "metadata": {
    "collapsed": false
   },
   "source": [
    "### Confusion Matrix\n",
    "* Confusion matrix helps to visualize the performance of the model\n",
    "* The diagonal elements represent the number of points for which the predicted label is equal to the true label\n",
    "* Off-diagonal elements are those that are mislabeled by the classifier.\n",
    "* The higher the diagonal values of the confusion matrix the better, indicating many correct\n",
    " \n",
    "Let's create confusion matrix using sklearn library and test data"
   ]
  },
  {
   "cell_type": "code",
   "execution_count": 27,
   "metadata": {
    "ExecuteTime": {
     "end_time": "2024-02-12T15:18:18.237572400Z",
     "start_time": "2024-02-12T15:18:17.266649900Z"
    },
    "collapsed": false
   },
   "outputs": [
    {
     "name": "stdout",
     "output_type": "stream",
     "text": [
      "Confusion matrix for OVR logistic regression:\n",
      "\n"
     ]
    },
    {
     "data": {
      "text/plain": [
       "<sklearn.metrics._plot.confusion_matrix.ConfusionMatrixDisplay at 0x12d6ec4d0>"
      ]
     },
     "execution_count": 27,
     "metadata": {},
     "output_type": "execute_result"
    },
    {
     "data": {
      "image/png": "[encoded data removed]",
      "text/plain": [
       "<Figure size 640x480 with 2 Axes>"
      ]
     },
     "metadata": {},
     "output_type": "display_data"
    }
   ],
   "source": [
    "print(\"Confusion matrix for OVR logistic regression:\\n\")\n",
    "metrics.ConfusionMatrixDisplay.from_estimator(estimator=lm, X=X_test, y=y_test)"
   ]
  },
  {
   "cell_type": "code",
   "execution_count": 28,
   "metadata": {},
   "outputs": [
    {
     "name": "stdout",
     "output_type": "stream",
     "text": [
      "Confusion matrix for multinomial logistic regression:\n",
      "\n"
     ]
    },
    {
     "data": {
      "text/plain": [
       "<sklearn.metrics._plot.confusion_matrix.ConfusionMatrixDisplay at 0x12d3af250>"
      ]
     },
     "execution_count": 28,
     "metadata": {},
     "output_type": "execute_result"
    },
    {
     "data": {
      "image/png": "[encoded data removed]",
      "text/plain": [
       "<Figure size 640x480 with 2 Axes>"
      ]
     },
     "metadata": {},
     "output_type": "display_data"
    }
   ],
   "source": [
    "print(\"Confusion matrix for multinomial logistic regression:\\n\")\n",
    "metrics.ConfusionMatrixDisplay.from_estimator(estimator=mlr, X=X_test, y=y_test)"
   ]
  },
  {
   "cell_type": "code",
   "execution_count": 29,
   "metadata": {},
   "outputs": [
    {
     "name": "stdout",
     "output_type": "stream",
     "text": [
      "Confusion matrix for linear discriminant analysis:\n",
      "\n"
     ]
    },
    {
     "data": {
      "text/plain": [
       "<sklearn.metrics._plot.confusion_matrix.ConfusionMatrixDisplay at 0x12d7c4c50>"
      ]
     },
     "execution_count": 29,
     "metadata": {},
     "output_type": "execute_result"
    },
    {
     "data": {
      "image/png": "[encoded data removed]",
      "text/plain": [
       "<Figure size 640x480 with 2 Axes>"
      ]
     },
     "metadata": {},
     "output_type": "display_data"
    }
   ],
   "source": [
    "print(\"Confusion matrix for linear discriminant analysis:\\n\")\n",
    "metrics.ConfusionMatrixDisplay.from_estimator(estimator=lda, X=X_test, y=y_test)"
   ]
  },
  {
   "cell_type": "markdown",
   "metadata": {
    "collapsed": false
   },
   "source": [
    "From the results we got, we can notice that all three models perdorm well on the test set. The multinomial logistic regression seems to perform slightly better than the OVR model and LDA on both train and test set."
   ]
  }
 ],
 "metadata": {
  "kernelspec": {
   "display_name": "Python 3",
   "language": "python",
   "name": "python3"
  },
  "language_info": {
   "codemirror_mode": {
    "name": "ipython",
    "version": 3
   },
   "file_extension": ".py",
   "mimetype": "text/x-python",
   "name": "python",
   "nbconvert_exporter": "python",
   "pygments_lexer": "ipython3",
   "version": "3.11.5"
  }
 },
 "nbformat": 4,
 "nbformat_minor": 4
}
